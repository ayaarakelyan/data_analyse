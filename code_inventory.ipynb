{
 "cells": [
  {
   "cell_type": "markdown",
   "id": "8a879670-07fc-4ced-82b9-330d4764f320",
   "metadata": {},
   "source": [
    "# Все подключения"
   ]
  },
  {
   "cell_type": "code",
   "execution_count": 1,
   "id": "1ebadab2-4048-419b-926d-4042e345a96c",
   "metadata": {},
   "outputs": [],
   "source": [
    "import pandas as pd\n",
    "from sqlalchemy import create_engine\n",
    "from sqlalchemy import text\n",
    "from datetime import datetime\n",
    "import os\n",
    "from tqdm import tqdm\n",
    "import time"
   ]
  },
  {
   "cell_type": "code",
   "execution_count": 2,
   "id": "e46fe71c-4c22-47d5-b7be-df198079df3a",
   "metadata": {},
   "outputs": [],
   "source": [
    "#DB connection settings:\n",
    "db_config = {'user': 'aykui.arakelyan',         # Username\n",
    "                 'pwd': '7%40EG2xc2', # passowrd\n",
    "                 'host': 'dwh-gp-master01',       # server address\n",
    "                 'port': 7433,              # port\n",
    "                 'db': 'ckdata'}             # DB name\n",
    "\n",
    "    # connection string: \n",
    "connection_string = 'postgresql://{}:{}@{}:{}/{}'.format(db_config['user'],\n",
    "                                                         db_config['pwd'],\n",
    "                                                         db_config['host'],\n",
    "                                                         db_config['port'],\n",
    "                                                         db_config['db'])\n",
    "    # Connect:\n",
    "engine = create_engine(connection_string)"
   ]
  },
  {
   "cell_type": "code",
   "execution_count": 3,
   "id": "a424381a-83b4-41a6-ae14-ee645be5f9be",
   "metadata": {},
   "outputs": [
    {
     "name": "stderr",
     "output_type": "stream",
     "text": [
      "/var/folders/8x/mm0d18r53xgbz3_6347vsms80000gn/T/ipykernel_57269/2597190646.py:2: DtypeWarning: Columns (0) have mixed types. Specify dtype option on import or set low_memory=False.\n",
      "  data = pd.read_csv(folder_path+'Алена.csv', header=0, sep=\";\")\n"
     ]
    }
   ],
   "source": [
    "folder_path = '/Users/ayaarakelyan/Desktop/ПИ/'\n",
    "data = pd.read_csv(folder_path+'Алена.csv', header=0, sep=\";\")"
   ]
  },
  {
   "cell_type": "code",
   "execution_count": 4,
   "id": "6a39a5d5-1a3f-4311-8ec8-b2f238348644",
   "metadata": {},
   "outputs": [],
   "source": [
    "data[['Начало периода', 'Окончание периода', 'Дата ПИ']] = data[['Начало периода', 'Окончание периода', 'Дата ПИ']].applymap(\n",
    "    lambda x: datetime.strptime(x, \"%d.%m.%Y\").strftime(\"%Y-%m-%d\") if isinstance(x, str) else x)"
   ]
  },
  {
   "cell_type": "code",
   "execution_count": 5,
   "id": "956a392e-8bcc-4169-aaea-cbb6ff094524",
   "metadata": {},
   "outputs": [],
   "source": [
    "data['key'] = data['Магазин'].astype(str)+'|'+data['Начало периода']+'|'+data['Окончание периода']"
   ]
  },
  {
   "cell_type": "code",
   "execution_count": 6,
   "id": "1e1dbf3e-c290-4082-8694-ec9ffd660ecf",
   "metadata": {},
   "outputs": [
    {
     "data": {
      "text/html": [
       "<div>\n",
       "<style scoped>\n",
       "    .dataframe tbody tr th:only-of-type {\n",
       "        vertical-align: middle;\n",
       "    }\n",
       "\n",
       "    .dataframe tbody tr th {\n",
       "        vertical-align: top;\n",
       "    }\n",
       "\n",
       "    .dataframe thead th {\n",
       "        text-align: right;\n",
       "    }\n",
       "</style>\n",
       "<table border=\"1\" class=\"dataframe\">\n",
       "  <thead>\n",
       "    <tr style=\"text-align: right;\">\n",
       "      <th></th>\n",
       "      <th>Магазин</th>\n",
       "      <th>Начало периода</th>\n",
       "      <th>Окончание периода</th>\n",
       "      <th>Дата ПИ</th>\n",
       "      <th>Товар</th>\n",
       "      <th>key</th>\n",
       "    </tr>\n",
       "  </thead>\n",
       "  <tbody>\n",
       "    <tr>\n",
       "      <th>0</th>\n",
       "      <td>2031</td>\n",
       "      <td>2023-05-07</td>\n",
       "      <td>2023-07-06</td>\n",
       "      <td>2023-06-06</td>\n",
       "      <td>4037662</td>\n",
       "      <td>2031|2023-05-07|2023-07-06</td>\n",
       "    </tr>\n",
       "    <tr>\n",
       "      <th>1</th>\n",
       "      <td>2031</td>\n",
       "      <td>2023-08-27</td>\n",
       "      <td>2023-10-26</td>\n",
       "      <td>2023-09-26</td>\n",
       "      <td>3425945</td>\n",
       "      <td>2031|2023-08-27|2023-10-26</td>\n",
       "    </tr>\n",
       "    <tr>\n",
       "      <th>2</th>\n",
       "      <td>2031</td>\n",
       "      <td>2023-05-07</td>\n",
       "      <td>2023-07-06</td>\n",
       "      <td>2023-06-06</td>\n",
       "      <td>3418493</td>\n",
       "      <td>2031|2023-05-07|2023-07-06</td>\n",
       "    </tr>\n",
       "    <tr>\n",
       "      <th>3</th>\n",
       "      <td>2031</td>\n",
       "      <td>2023-05-07</td>\n",
       "      <td>2023-07-06</td>\n",
       "      <td>2023-06-06</td>\n",
       "      <td>3625733</td>\n",
       "      <td>2031|2023-05-07|2023-07-06</td>\n",
       "    </tr>\n",
       "    <tr>\n",
       "      <th>4</th>\n",
       "      <td>2031</td>\n",
       "      <td>2023-08-27</td>\n",
       "      <td>2023-10-26</td>\n",
       "      <td>2023-09-26</td>\n",
       "      <td>4053082</td>\n",
       "      <td>2031|2023-08-27|2023-10-26</td>\n",
       "    </tr>\n",
       "  </tbody>\n",
       "</table>\n",
       "</div>"
      ],
      "text/plain": [
       "  Магазин Начало периода Окончание периода     Дата ПИ    Товар  \\\n",
       "0    2031     2023-05-07        2023-07-06  2023-06-06  4037662   \n",
       "1    2031     2023-08-27        2023-10-26  2023-09-26  3425945   \n",
       "2    2031     2023-05-07        2023-07-06  2023-06-06  3418493   \n",
       "3    2031     2023-05-07        2023-07-06  2023-06-06  3625733   \n",
       "4    2031     2023-08-27        2023-10-26  2023-09-26  4053082   \n",
       "\n",
       "                          key  \n",
       "0  2031|2023-05-07|2023-07-06  \n",
       "1  2031|2023-08-27|2023-10-26  \n",
       "2  2031|2023-05-07|2023-07-06  \n",
       "3  2031|2023-05-07|2023-07-06  \n",
       "4  2031|2023-08-27|2023-10-26  "
      ]
     },
     "execution_count": 6,
     "metadata": {},
     "output_type": "execute_result"
    }
   ],
   "source": [
    "data.head()"
   ]
  },
  {
   "cell_type": "code",
   "execution_count": 7,
   "id": "cbf33417-17ed-4d51-8c16-2a8cc9b42d69",
   "metadata": {},
   "outputs": [
    {
     "data": {
      "text/plain": [
       "(898, 6)"
      ]
     },
     "execution_count": 7,
     "metadata": {},
     "output_type": "execute_result"
    }
   ],
   "source": [
    "# Группируем по столбцам Магазин, Начало периода, Окончание периода и дата ПИ, а затем объединяем значения столбца Товар через запятую\n",
    "result = data.groupby(['Магазин', 'Начало периода', 'Окончание периода', 'Дата ПИ', 'key'])['Товар'].apply(lambda x: ','.join(map(str, x))).reset_index()\n",
    "result['Товар'] = result['Товар'].apply(lambda x: f\"'{x}'\").str.replace(',', \"', '\")\n",
    "result.head()\n",
    "result.shape"
   ]
  },
  {
   "cell_type": "code",
   "execution_count": 30,
   "id": "59b5101e-4e0b-45c9-8c54-790138273df5",
   "metadata": {},
   "outputs": [
    {
     "data": {
      "text/plain": [
       "(98, 6)"
      ]
     },
     "execution_count": 30,
     "metadata": {},
     "output_type": "execute_result"
    }
   ],
   "source": [
    "result2 = result[800:]\n",
    "result2.shape"
   ]
  },
  {
   "cell_type": "code",
   "execution_count": 31,
   "id": "7dbaa14a-a562-4118-82e3-b1d607ec3576",
   "metadata": {},
   "outputs": [
    {
     "data": {
      "text/plain": [
       "(98, 6)"
      ]
     },
     "execution_count": 31,
     "metadata": {},
     "output_type": "execute_result"
    }
   ],
   "source": [
    "result2.shape"
   ]
  },
  {
   "cell_type": "code",
   "execution_count": 32,
   "id": "5a8f2cb1-444b-4503-9517-bc2e426d75c1",
   "metadata": {},
   "outputs": [],
   "source": [
    "list_key = result2['key'].unique().astype(object)"
   ]
  },
  {
   "cell_type": "markdown",
   "id": "463e4f59-01fe-41e5-8184-caa5e931df9e",
   "metadata": {},
   "source": [
    "### Выгрузка из БД"
   ]
  },
  {
   "cell_type": "code",
   "execution_count": 33,
   "id": "cfc2f5ad-3ece-4366-abe3-a50a85b35c2c",
   "metadata": {},
   "outputs": [],
   "source": [
    "output_folder = '/Users/ayaarakelyan/Desktop/ПИ/Выгрузки/'"
   ]
  },
  {
   "cell_type": "code",
   "execution_count": 34,
   "id": "0994f37a-8143-4066-81e5-9922912ae65f",
   "metadata": {},
   "outputs": [
    {
     "name": "stderr",
     "output_type": "stream",
     "text": [
      "Processing: 100%|██████████████████████████████████████████████████████████| 98/98 [13:13<00:00,  8.10s/it]\n"
     ]
    }
   ],
   "source": [
    "if not os.path.exists(output_folder):\n",
    "    os.makedirs(output_folder)\n",
    "\n",
    "df_combined = pd.DataFrame()\n",
    "\n",
    "for element in tqdm(list_key, desc='Processing'):\n",
    "    start_date = result2.loc[(result2['key'] == element)]['Начало периода'].iloc[0]\n",
    "    end_date = result2.loc[(result2['key'] == element)]['Окончание периода'].iloc[0]\n",
    "    inventory_date = result2.loc[(result2['key'] == element)]['Дата ПИ'].iloc[0]\n",
    "    zavod = result2.loc[(result2['key'] == element)]['Магазин'].iloc[0]\n",
    "    list_plu2 = result2.loc[(result2['key'] == element)]['Товар'].iloc[0]\n",
    "    with engine.begin() as conn:\n",
    "        query = text(f'''SELECT     \n",
    "    sp.stock_point_id,     \n",
    "    material_id, \n",
    "    material_nm,      \n",
    "    CASE         \n",
    "        WHEN sp.stock_point_id = '{zavod}' AND s.cash_register_dt < '{inventory_date}' THEN 'До ПИ'\n",
    "        WHEN sp.stock_point_id = '{zavod}' AND s.cash_register_dt >= '{inventory_date}' THEN 'После ПИ'    \n",
    "    END AS period_of_inventory,\n",
    "    SUM(turnover_vat_rub_amt) rto,     \n",
    "    SUM(turnover_no_vat_amt) sales,\n",
    "    SUM(turnover_base_uom_amt) count_of_sales\n",
    "FROM     GRP_EM.FCT_SALES_D s\n",
    "LEFT JOIN     GRP_EM.DIM_MATERIAL m ON s.plu_rk = m.material_rk\n",
    "LEFT JOIN     GRP_EM.DIM_STOCK_POINT sp ON s.store_rk = sp.store_rk AND m.valid_to_dttm = '5999-01-01'\n",
    "WHERE\n",
    "    sp.stock_point_id = '{zavod}' AND material_id IN ({list_plu2}) AND s.cash_register_dt BETWEEN '{start_date}' AND '{end_date}' \n",
    "GROUP BY \n",
    "     sp.stock_point_id, \n",
    "     material_id, \n",
    "     material_nm, \n",
    "     sp.stock_point_id, \n",
    "     period_of_inventory ''')\n",
    "        df = pd.read_sql_query(query, conn)\n",
    "    df_combined = pd.concat([df_combined, df], ignore_index=True)\n",
    "    \n",
    "output_file = os.path.join(output_folder, 'output_data.csv')\n",
    "df_combined.to_csv(output_file, index=False)"
   ]
  },
  {
   "cell_type": "code",
   "execution_count": 39,
   "id": "4c0e98bb-c619-453f-8d40-1590b606cef6",
   "metadata": {},
   "outputs": [],
   "source": [
    "output_file_1 = pd.read_csv(output_folder+'output_data_1.csv', header=0, sep=\",\")\n",
    "output_file_2 = pd.read_csv(output_folder+'output_data_2.csv', header=0, sep=\",\")\n",
    "output_file_3 = pd.read_csv(output_folder+'output_data_3.csv', header=0, sep=\",\")\n",
    "output_file_4 = pd.read_csv(output_folder+'output_data_4.csv', header=0, sep=\",\")\n",
    "output_file_5 = pd.read_csv(output_folder+'output_data_5.csv', header=0, sep=\",\")\n",
    "output_file_6 = pd.read_csv(output_folder+'output_data_6.csv', header=0, sep=\",\")\n",
    "output_file_7 = pd.read_csv(output_folder+'output_data_7.csv', header=0, sep=\",\")"
   ]
  },
  {
   "cell_type": "code",
   "execution_count": 43,
   "id": "916af6b4-def1-4b50-8080-f35b8223d956",
   "metadata": {},
   "outputs": [
    {
     "data": {
      "text/plain": [
       "(918150, 7)"
      ]
     },
     "execution_count": 43,
     "metadata": {},
     "output_type": "execute_result"
    }
   ],
   "source": [
    "data_output = pd.concat([output_file_1, output_file_2, output_file_3, output_file_4, output_file_5, output_file_6, output_file_7 ], ignore_index=True)\n",
    "data_output.shape"
   ]
  },
  {
   "cell_type": "code",
   "execution_count": 44,
   "id": "dc021f13-eaa8-4aa0-8247-ca413481e2fc",
   "metadata": {},
   "outputs": [],
   "source": [
    "output_file_total = os.path.join(output_folder, 'output_data.csv')\n",
    "data_output.to_csv(output_file_total, index=False)"
   ]
  },
  {
   "cell_type": "code",
   "execution_count": null,
   "id": "c32f88e6-69a5-4998-8797-23f61704c65d",
   "metadata": {},
   "outputs": [],
   "source": [
    "        save_path = os.path.join(output_folder, f'df_{element}.csv')\n",
    "    df_combined.to_csv(save_path, index=False)"
   ]
  }
 ],
 "metadata": {
  "kernelspec": {
   "display_name": "Python 3 (ipykernel)",
   "language": "python",
   "name": "python3"
  },
  "language_info": {
   "codemirror_mode": {
    "name": "ipython",
    "version": 3
   },
   "file_extension": ".py",
   "mimetype": "text/x-python",
   "name": "python",
   "nbconvert_exporter": "python",
   "pygments_lexer": "ipython3",
   "version": "3.10.9"
  }
 },
 "nbformat": 4,
 "nbformat_minor": 5
}
